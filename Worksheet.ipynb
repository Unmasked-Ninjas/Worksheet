{
  "nbformat": 4,
  "nbformat_minor": 0,
  "metadata": {
    "colab": {
      "provenance": []
    },
    "kernelspec": {
      "name": "python3",
      "display_name": "Python 3"
    },
    "language_info": {
      "name": "python"
    }
  },
  "cells": [
    {
      "cell_type": "code",
      "execution_count": null,
      "metadata": {
        "colab": {
          "base_uri": "https://localhost:8080/"
        },
        "id": "0zkIt85E9J5Z",
        "outputId": "4026d16b-d21c-49da-93fc-bb89bb7c6316"
      },
      "outputs": [
        {
          "output_type": "stream",
          "name": "stdout",
          "text": [
            "data type of the variable is  <class 'int'>\n",
            "data type of the variable is  <class 'float'>\n",
            "data type of the variable is  <class 'float'>\n"
          ]
        }
      ],
      "source": [
        "age = 10 #int\n",
        "pi = 3.14 #float\n",
        "temperature = -274.4 #float\n",
        "print(\"data type of the variable is \", type(age));\n",
        "print(\"data type of the variable is \", type(pi));\n",
        "print(\"data type of the variable is \", type(temperature));\n",
        "\n"
      ]
    },
    {
      "cell_type": "code",
      "source": [
        "name = \"prasanna\"\n",
        "greetings = 'hello'\n",
        "address = \" 123 masbar pokhara\"\n",
        "print(\"the data type of the variable is \", type(name))\n",
        "print(\"the data type of the variable is \", type(greetings))\n",
        "print(\"the data type of the variable is \", type(address))\n",
        "\n",
        "#indexing the string\n",
        "print(\"The first letter of the name is \", name[0])\n",
        "print(\"The last letter of the name is \", name[-5])\n",
        "\n",
        "#slicing the range of the string\n",
        "print(\"Slicing the range \", name[1:])\n",
        "\n"
      ],
      "metadata": {
        "colab": {
          "base_uri": "https://localhost:8080/"
        },
        "id": "woJPR30e-Sii",
        "outputId": "ba5f034e-7191-4fa7-94da-210d758b9eff"
      },
      "execution_count": null,
      "outputs": [
        {
          "output_type": "stream",
          "name": "stdout",
          "text": [
            "the data type of the variable is  <class 'str'>\n",
            "the data type of the variable is  <class 'str'>\n",
            "the data type of the variable is  <class 'str'>\n",
            "The first letter of the name is  p\n",
            "The last letter of the name is  s\n",
            "Slicing the range  rasanna\n"
          ]
        }
      ]
    },
    {
      "cell_type": "code",
      "source": [
        "# Lists in python\n",
        "#lists are of mixed type and are mutable\n",
        "\n",
        "list = [1,2,4,5,6,7,8]\n",
        "print(\"first element \", list[0]);\n",
        "print(\"Last element \", list[-1]);\n",
        "\n",
        "#since lists are mutable we can manipulat the original list\n",
        "list[0] = 99\n",
        "print(list);"
      ],
      "metadata": {
        "colab": {
          "base_uri": "https://localhost:8080/"
        },
        "id": "H56TnH8DA_WU",
        "outputId": "1a7149f6-b84e-45aa-c686-b735fdd2ee63"
      },
      "execution_count": null,
      "outputs": [
        {
          "output_type": "stream",
          "name": "stdout",
          "text": [
            "first element  1\n",
            "Last element  8\n",
            "[99, 2, 4, 5, 6, 7, 8]\n"
          ]
        }
      ]
    },
    {
      "cell_type": "code",
      "source": [
        "#tuple in python\n",
        "# String, list, and touple falls under the squence datatype\n",
        "#tuple in python are immutable and are ordered\n",
        "\n",
        "tuple = (1,4,5,6)\n",
        "print(tuple)\n",
        "tuple[0] = 99;\n",
        "print(tuple)"
      ],
      "metadata": {
        "colab": {
          "base_uri": "https://localhost:8080/",
          "height": 211
        },
        "id": "u88ufj25Bca6",
        "outputId": "b013dc5f-0920-4682-cd24-c70280f644e7"
      },
      "execution_count": null,
      "outputs": [
        {
          "output_type": "stream",
          "name": "stdout",
          "text": [
            "(1, 4, 5, 6)\n"
          ]
        },
        {
          "output_type": "error",
          "ename": "TypeError",
          "evalue": "'tuple' object does not support item assignment",
          "traceback": [
            "\u001b[0;31m---------------------------------------------------------------------------\u001b[0m",
            "\u001b[0;31mTypeError\u001b[0m                                 Traceback (most recent call last)",
            "\u001b[0;32m<ipython-input-21-1c26abee19dd>\u001b[0m in \u001b[0;36m<cell line: 7>\u001b[0;34m()\u001b[0m\n\u001b[1;32m      5\u001b[0m \u001b[0mtuple\u001b[0m \u001b[0;34m=\u001b[0m \u001b[0;34m(\u001b[0m\u001b[0;36m1\u001b[0m\u001b[0;34m,\u001b[0m\u001b[0;36m4\u001b[0m\u001b[0;34m,\u001b[0m\u001b[0;36m5\u001b[0m\u001b[0;34m,\u001b[0m\u001b[0;36m6\u001b[0m\u001b[0;34m)\u001b[0m\u001b[0;34m\u001b[0m\u001b[0;34m\u001b[0m\u001b[0m\n\u001b[1;32m      6\u001b[0m \u001b[0mprint\u001b[0m\u001b[0;34m(\u001b[0m\u001b[0mtuple\u001b[0m\u001b[0;34m)\u001b[0m\u001b[0;34m\u001b[0m\u001b[0;34m\u001b[0m\u001b[0m\n\u001b[0;32m----> 7\u001b[0;31m \u001b[0mtuple\u001b[0m\u001b[0;34m[\u001b[0m\u001b[0;36m0\u001b[0m\u001b[0;34m]\u001b[0m \u001b[0;34m=\u001b[0m \u001b[0;36m99\u001b[0m\u001b[0;34m;\u001b[0m\u001b[0;34m\u001b[0m\u001b[0;34m\u001b[0m\u001b[0m\n\u001b[0m\u001b[1;32m      8\u001b[0m \u001b[0mprint\u001b[0m\u001b[0;34m(\u001b[0m\u001b[0mtuple\u001b[0m\u001b[0;34m)\u001b[0m\u001b[0;34m\u001b[0m\u001b[0;34m\u001b[0m\u001b[0m\n",
            "\u001b[0;31mTypeError\u001b[0m: 'tuple' object does not support item assignment"
          ]
        }
      ]
    },
    {
      "cell_type": "code",
      "source": [
        "#mapping\n",
        "  #dictionary\n",
        "  #dictionary contains key value pair and is mutable\n",
        "\n",
        "dictionary = {'name':'prasanna','Age':20,'City':'Pokhara'}\n",
        "print('All keys', dictionary.keys())\n",
        "print('All Values', dictionary.values())\n"
      ],
      "metadata": {
        "colab": {
          "base_uri": "https://localhost:8080/"
        },
        "id": "99GNC88TB-Xs",
        "outputId": "4983504d-34c4-4c06-9ae9-5a72fc15f35c"
      },
      "execution_count": null,
      "outputs": [
        {
          "output_type": "stream",
          "name": "stdout",
          "text": [
            "All keys dict_keys(['name', 'Age', 'City'])\n",
            "All Values dict_values(['prasanna', 20, 'Pokhara'])\n"
          ]
        }
      ]
    },
    {
      "cell_type": "code",
      "source": [
        "#Set datatype in python\n",
        "#sets are the mutable collection of uniqye items\n",
        "\n",
        "unik = {1,3,5,7,9}\n",
        "print(unik)\n",
        "for i in unik:\n",
        "  print(i)\n"
      ],
      "metadata": {
        "colab": {
          "base_uri": "https://localhost:8080/"
        },
        "id": "DvaY5i2EDzW5",
        "outputId": "da7641cf-066d-47be-ea83-a348694019fb"
      },
      "execution_count": null,
      "outputs": [
        {
          "output_type": "stream",
          "name": "stdout",
          "text": [
            "{1, 3, 5, 7, 9}\n",
            "1\n",
            "3\n",
            "5\n",
            "7\n",
            "9\n"
          ]
        }
      ]
    },
    {
      "cell_type": "markdown",
      "source": [
        "Worksheet warmup\n"
      ],
      "metadata": {
        "id": "6rvICZOrFXFU"
      }
    },
    {
      "cell_type": "code",
      "source": [
        "#classifying the temperature into cold, mild, and comfortable\n",
        "#(a) Cold: temperatures below 10°C.\n",
        "#(b) Mild: temperatures between 10°C and 15°C.\n",
        "#(c) Comfortable: temperatures between 15°C and 20°C.\n",
        "import matplotlib.pyplot as plt\n",
        "\n",
        "temperatures = [8.2, 17.4, 14.1, 7.9, 18.0, 13.5, 9.0, 17.8, 13.0, 8.5,\n",
        "16.5, 12.9, 7.7, 17.2, 13.3, 8.4, 16.7, 14.0, 9.5, 18.3, 13.4, 8.1,\n",
        "17.9, 14.2, 7.6, 17.0, 12.8, 8.0, 16.8, 13.7, 7.8, 17.5, 13.6, 8.7,\n",
        "17.1, 13.8, 9.2, 18.1, 13.9, 8.3, 16.4, 12.7, 8.9, 18.2, 13.1, 7.8,\n",
        "16.6, 12.5, 3.2]\n",
        "\n",
        "cold = []\n",
        "mild = []\n",
        "comfortable = []\n",
        "\n",
        "for temp in temperatures:\n",
        "  if(temp<10.0):\n",
        "    cold.append(temp)\n",
        "\n",
        "  elif(temp>=10.0 and temp<=15.0):\n",
        "    mild.append(temp)\n",
        "\n",
        "  else:\n",
        "    comfortable.append(temp)\n",
        "\n",
        "#TASK 1 AND 2\n",
        "print('Cold temp = ',cold, 'no of cold temp', len(cold))\n",
        "print('Mild Temp',mild, 'no of mild temp', len(mild))\n",
        "print('Comfortable temp',comfortable,'no of comfy temp', len(comfortable))\n",
        "\n",
        "#TASk 3\n",
        "farehen = []\n",
        "for temp in temperatures:\n",
        "  fh = (temp*9/5)+32\n",
        "  fh = round(fh, 2)\n",
        "  farehen.append(fh)\n",
        "\n",
        "print(\"Temperature in faherenheit is \", farehen)\n",
        "\n",
        "Night = []\n",
        "Evening = []\n",
        "Day = []\n",
        "for temp in temperatures:\n",
        "  if(temp <= 8):\n",
        "    Night.append(temp)\n",
        "\n",
        "  elif(temp>8 and temp<=16):\n",
        "    Evening.append(temp)\n",
        "\n",
        "  else:\n",
        "    Day.append(temp)\n",
        "\n",
        "print(\"Day Night And evening \")\n",
        "print(\"Day: \",Day)\n",
        "print(\"Night: \",Night)\n",
        "print(\"Evening: \",Evening)\n",
        "\n",
        "collect = []\n",
        "for temp in Day:\n",
        "  collect.append(temp)\n",
        "\n",
        "print(\"Average Daytime temperature\",round(sum(collect)/len(collect),2))\n",
        "\n",
        "print(\"Day vs Comfortable Temperature graph\")\n",
        "plt.plot(Day, comfortable)\n",
        "plt.show()\n"
      ],
      "metadata": {
        "colab": {
          "base_uri": "https://localhost:8080/",
          "height": 624
        },
        "id": "O_ai9SA0Fbgc",
        "outputId": "c2b43a4f-def0-4653-e979-f4959fd92fdf"
      },
      "execution_count": null,
      "outputs": [
        {
          "output_type": "stream",
          "name": "stdout",
          "text": [
            "Cold temp =  [8.2, 7.9, 9.0, 8.5, 7.7, 8.4, 9.5, 8.1, 7.6, 8.0, 7.8, 8.7, 9.2, 8.3, 8.9, 7.8, 3.2] no of cold temp 17\n",
            "Mild Temp [14.1, 13.5, 13.0, 12.9, 13.3, 14.0, 13.4, 14.2, 12.8, 13.7, 13.6, 13.8, 13.9, 12.7, 13.1, 12.5] no of mild temp 16\n",
            "Comfortable temp [17.4, 18.0, 17.8, 16.5, 17.2, 16.7, 18.3, 17.9, 17.0, 16.8, 17.5, 17.1, 18.1, 16.4, 18.2, 16.6] no of comfy temp 16\n",
            "Temperature in faherenheit is  [46.76, 63.32, 57.38, 46.22, 64.4, 56.3, 48.2, 64.04, 55.4, 47.3, 61.7, 55.22, 45.86, 62.96, 55.94, 47.12, 62.06, 57.2, 49.1, 64.94, 56.12, 46.58, 64.22, 57.56, 45.68, 62.6, 55.04, 46.4, 62.24, 56.66, 46.04, 63.5, 56.48, 47.66, 62.78, 56.84, 48.56, 64.58, 57.02, 46.94, 61.52, 54.86, 48.02, 64.76, 55.58, 46.04, 61.88, 54.5, 37.76]\n",
            "Day Night And evening \n",
            "Day:  [17.4, 18.0, 17.8, 16.5, 17.2, 16.7, 18.3, 17.9, 17.0, 16.8, 17.5, 17.1, 18.1, 16.4, 18.2, 16.6]\n",
            "Night:  [7.9, 7.7, 7.6, 8.0, 7.8, 7.8, 3.2]\n",
            "Evening:  [8.2, 14.1, 13.5, 9.0, 13.0, 8.5, 12.9, 13.3, 8.4, 14.0, 9.5, 13.4, 8.1, 14.2, 12.8, 13.7, 13.6, 8.7, 13.8, 9.2, 13.9, 8.3, 12.7, 8.9, 13.1, 12.5]\n",
            "Average Daytime temperature 17.34\n",
            "Day vs Temperature graph\n"
          ]
        },
        {
          "output_type": "display_data",
          "data": {
            "text/plain": [
              "<Figure size 640x480 with 1 Axes>"
            ],
            "image/png": "[encoded data removed]"
          },
          "metadata": {}
        }
      ]
    },
    {
      "cell_type": "markdown",
      "source": [
        "Exercise- Recursion"
      ],
      "metadata": {
        "id": "kML5946owv8K"
      }
    },
    {
      "cell_type": "code",
      "source": [
        "#Sum of the elements of the nested list\n",
        "\n",
        "def sum_nested_list(nestedlist):\n",
        "  total = 0\n",
        "  for element in nestedlist:\n",
        "    if isinstance(element, list):\n",
        "      total += sum_nested_list(element)\n",
        "    else:\n",
        "      total += element\n",
        "\n",
        "  return total\n",
        "\n",
        "nestedlist = [1,[2,[4,6],9],10]\n",
        "Sum = sum_nested_list(nestedlist)\n",
        "print(\"The sum of nested List is \", Sum)"
      ],
      "metadata": {
        "colab": {
          "base_uri": "https://localhost:8080/"
        },
        "id": "y5To6UN0w0q_",
        "outputId": "25e75fef-74d8-4881-fe5e-a1c3b581c58a"
      },
      "execution_count": null,
      "outputs": [
        {
          "output_type": "stream",
          "name": "stdout",
          "text": [
            "The sum of nested List is  32\n"
          ]
        }
      ]
    },
    {
      "cell_type": "markdown",
      "source": [
        "Permutation of a string\n"
      ],
      "metadata": {
        "id": "SEKsG1w97Tod"
      }
    },
    {
      "cell_type": "code",
      "source": [
        "#Permutation of a string\n",
        "\n",
        "def generate_permutations(s):\n",
        "\n",
        "  #base case\n",
        "  if(len(s)<=1):\n",
        "    return [s]\n",
        "\n",
        "  perms = []\n",
        "\n",
        "  for i in range(len(s)):\n",
        "\n",
        "    #seperates the first letter\n",
        "    char = s[i]\n",
        "    rest = s[:i] + s[i+1:]\n",
        "\n",
        "    #recursion\n",
        "    for perm in generate_permutations(rest):\n",
        "      new_perms = char+perm\n",
        "\n",
        "      if new_perms not in perms:\n",
        "        perms.append(new_perms)\n",
        "\n",
        "  return perms\n",
        "\n",
        "print(generate_permutations(\"ABC\"))\n"
      ],
      "metadata": {
        "colab": {
          "base_uri": "https://localhost:8080/"
        },
        "id": "o-wq97SZ7Wtu",
        "outputId": "8e7793e7-f719-4e98-d553-1cd911ebaaa2"
      },
      "execution_count": null,
      "outputs": [
        {
          "output_type": "stream",
          "name": "stdout",
          "text": [
            "['ABC', 'ACB', 'BAC', 'BCA', 'CAB', 'CBA']\n"
          ]
        }
      ]
    },
    {
      "cell_type": "markdown",
      "source": [
        "Directory Size Calculation"
      ],
      "metadata": {
        "id": "14ZobavfN1wV"
      }
    },
    {
      "cell_type": "code",
      "source": [
        "#Directory Size Calculation\n",
        "def calculate_file_size(dir):\n",
        "\n",
        "\n",
        "  #same as nested lists\n",
        "  total = 0\n",
        "  for element in dir.values():\n",
        "    if isinstance(element, dict):\n",
        "      total += calculate_file_size(element)\n",
        "    else:\n",
        "      total += element\n",
        "\n",
        "  return total;\n",
        "\n",
        "\n",
        "\n",
        "directiory = {\n",
        "    \"file1.txt\":200,\n",
        "    \"file2.txt\":300,\n",
        "    \"subdir1\":{\n",
        "        \"file3\":150,\n",
        "        \"file4\":100,\n",
        "    },\n",
        "    \"subdir2\":{\n",
        "        \"file5\":500\n",
        "    },\n",
        "    \"file6\":350\n",
        "}\n",
        "\n",
        "print(\"Total filesize = \",calculate_file_size(directiory),\"KB\");"
      ],
      "metadata": {
        "colab": {
          "base_uri": "https://localhost:8080/"
        },
        "id": "cN5IXBCtN2b-",
        "outputId": "01569739-0ab8-4cca-f8e9-62fd2affde9d"
      },
      "execution_count": null,
      "outputs": [
        {
          "output_type": "stream",
          "name": "stdout",
          "text": [
            "Total filesize =  1600 KB\n"
          ]
        }
      ]
    },
    {
      "cell_type": "markdown",
      "source": [
        "Coinchange problem\n"
      ],
      "metadata": {
        "id": "Mul6B0SnuKXT"
      }
    },
    {
      "cell_type": "code",
      "source": [
        "def longest_common_subsequence(s1, s2):\n",
        "    m = len(s1)\n",
        "    n = len(s2)\n",
        "\n",
        "    #2d matrix\n",
        "    dp = [[0] * (n + 1)] * (m + 1)\n",
        "\n",
        "\n",
        "    for i in range(1, m + 1):\n",
        "        for j in range(1, n + 1):\n",
        "            if s1[i - 1] == s2[j - 1]:\n",
        "                dp[i][j] = dp[i - 1][j - 1] + 1\n",
        "            else:\n",
        "                dp[i][j] = max(dp[i - 1][j], dp[i][j - 1])\n",
        "\n",
        "    # The length of the LCS is in the bottom-right cell\n",
        "    return dp[m][n]\n",
        "\n",
        "\n",
        "s1 = \"ABCBDAB\"\n",
        "s2 = \"BDCABB\"\n",
        "print(\"length of lcs:\", longest_common_subsequence(s1, s2))\n"
      ],
      "metadata": {
        "id": "b6fYKHPQuO5o",
        "colab": {
          "base_uri": "https://localhost:8080/"
        },
        "outputId": "d1bcb2d0-6c89-45f8-dae0-07f3e9bc42e5"
      },
      "execution_count": null,
      "outputs": [
        {
          "output_type": "stream",
          "name": "stdout",
          "text": [
            "length of lcs: 5\n"
          ]
        }
      ]
    },
    {
      "cell_type": "markdown",
      "source": [
        "Knapsnack problem\n"
      ],
      "metadata": {
        "id": "3_MpRRpgS6M5"
      }
    },
    {
      "cell_type": "code",
      "source": [
        "def knapsack(weights, values, capacity):\n",
        "    n = len(weights)\n",
        "\n",
        "\n",
        "    dp = [[0] * (capacity + 1) for _ in range(n + 1)]\n",
        "\n",
        "\n",
        "    for i in range(1, n + 1):\n",
        "        for w in range(1, capacity + 1):\n",
        "            if weights[i - 1] <= w:\n",
        "\n",
        "                dp[i][w] = max(dp[i - 1][w], values[i - 1] + dp[i - 1][w - weights[i - 1]])\n",
        "            else:\n",
        "\n",
        "                dp[i][w] = dp[i - 1][w]\n",
        "\n",
        "\n",
        "    return dp[n][capacity]\n",
        "\n",
        "# Example usage\n",
        "weights = [1, 2, 3, 8, 4, 5]\n",
        "values = [20, 5, 10, 40, 15, 25]\n",
        "capacity = 10\n",
        "\n",
        "print(\"Maximum value in Knapsack:\", knapsack(weights, values, capacity))\n"
      ],
      "metadata": {
        "colab": {
          "base_uri": "https://localhost:8080/"
        },
        "id": "wIs8BEfeS86G",
        "outputId": "0f71f65a-0250-43a9-f20e-4101e2730379"
      },
      "execution_count": null,
      "outputs": [
        {
          "output_type": "stream",
          "name": "stdout",
          "text": [
            "Maximum value in Knapsack: 60\n"
          ]
        }
      ]
    }
  ]
}